{
 "cells": [
  {
   "cell_type": "code",
   "execution_count": 2,
   "metadata": {},
   "outputs": [],
   "source": [
    "import pandas as pd\n",
    "import matplotlib.pyplot as plt\n",
    "import matplotlib.mlab as mlab\n",
    "from datetime import datetime\n",
    "import sqlite3"
   ]
  },
  {
   "cell_type": "code",
   "execution_count": 3,
   "metadata": {},
   "outputs": [],
   "source": [
    "dbname = \"Group24_NS_Project.db\"\n",
    "conn = sqlite3.connect(dbname)"
   ]
  },
  {
   "cell_type": "code",
   "execution_count": 4,
   "metadata": {},
   "outputs": [],
   "source": [
    "db_data = pd.read_sql_query(\"SELECT * FROM pcap_16_09_29\", conn)"
   ]
  },
  {
   "cell_type": "code",
   "execution_count": 13,
   "metadata": {},
   "outputs": [
    {
     "name": "stdout",
     "output_type": "stream",
     "text": [
      "   ID        Time  Size            MAC_Src            MAC_Dst         IP_Src  \\\n",
      "0   1  1475071201   156  30:8c:fb:2f:e4:b2  14:cc:20:51:33:ea  192.168.1.106   \n",
      "1   2  1475071201    66  14:cc:20:51:33:ea  30:8c:fb:2f:e4:b2  52.87.241.159   \n",
      "2   6  1475071202   174  70:ee:50:18:34:43  14:cc:20:51:33:ea  192.168.1.241   \n",
      "3  10  1475071202   174  14:cc:20:51:33:ea  70:ee:50:18:34:43   52.8.241.183   \n",
      "4  15  1475071202   156  30:8c:fb:2f:e4:b2  14:cc:20:51:33:ea  192.168.1.106   \n",
      "\n",
      "          IP_Dst  Protocol_IP  Port_Src  Port_Dst  \n",
      "0  52.87.241.159            6     47940       443  \n",
      "1  192.168.1.106            6       443     47940  \n",
      "2   52.8.241.183           17     52925      4500  \n",
      "3  192.168.1.241           17      4500     52925  \n",
      "4  52.87.241.159            6     47940       443  \n"
     ]
    }
   ],
   "source": [
    "print(db_data.head())"
   ]
  },
  {
   "cell_type": "code",
   "execution_count": null,
   "metadata": {},
   "outputs": [],
   "source": [
    "iot_devices = ['d0:52:a8:00:67:5e', '44:65:0d:56:cc:d3', '70:ee:50:18:34:43', 'f4:f2:6d:93:51:f1', '00:16:6c:ab:6b:88', '30:8c:fb:2f:e4:b2', '00:62:6e:51:27:2e', 'e8:ab:fa:19:de:4f', '00:24:e4:11:18:a8', 'ec:1a:59:79:f4:89', '50:c7:bf:00:56:39', '74:c6:3b:29:d7:1d', 'ec:1a:59:83:28:11', '18:b4:30:25:be:e4', '70:ee:50:03:b8:ac', '00:24:e4:1b:6f:96', '74:6a:89:00:2e:25', '00:24:e4:20:28:c6', 'd0:73:d5:01:83:08', '18:b7:9e:02:20:44', 'e0:76:d0:33:bb:85', '30:8c:fb:b6:ea:45']\n",
    "print(iot_devices)"
   ]
  },
  {
   "cell_type": "code",
   "execution_count": null,
   "metadata": {},
   "outputs": [],
   "source": [
    "size = []\n",
    "time = []\n",
    "port_dest = []\n",
    "port_dest_freq = []\n",
    "port_src = []\n",
    "port_src_freq = []\n",
    "\n",
    "for index, row in db_data.iterrows():\n",
    "    if row['Time'] in time:\n",
    "        size[time.index(row['Time'])] += int(row['Size'])\n",
    "    else:\n",
    "        time.append(int(row['Time']))\n",
    "        size.append(int(row['Size']))\n",
    "        \n",
    "    if row['Port_Dst'] in port_dest:\n",
    "        port_dest_freq[port_dest.index(row['Port_Dst'])] += 1\n",
    "    else:\n",
    "        port_dest.append(row['Port_Dst'])\n",
    "        port_dest_freq.append(1)\n",
    "    \n",
    "    if row['Port_Src'] in port_src:\n",
    "        port_src_freq[port_src.index(row['Port_Src'])] += 1\n",
    "    else:\n",
    "        port_src.append(row['Port_Src'])\n",
    "        port_src_freq.append(1)"
   ]
  },
  {
   "cell_type": "code",
   "execution_count": 17,
   "metadata": {},
   "outputs": [],
   "source": [
    "time1 = [int(datetime.fromtimestamp(i).strftime(\"%H%M\")) for i in time]\n",
    "time2 = []\n",
    "size2 = []\n",
    "t = time1[0]\n",
    "s = 0\n",
    "for i in range(len(time1)):\n",
    "    if t == time1[i]:\n",
    "        s += size[i]\n",
    "    else:\n",
    "        size2.append(s)\n",
    "        s = size[i];\n",
    "        time2.append(t)\n",
    "        t = time1[i]\n",
    "size2 = [i / (1024) for i in size2]\n",
    "tsort = []\n",
    "ssort = []\n",
    "tsort_r = []\n",
    "ssort_r = []\n",
    "for t,s in sorted(zip(time2,size2)):\n",
    "    tsort.append(t)\n",
    "    ssort.append(s)\n",
    "    if t >= 1700 and t <= 1800:\n",
    "        tsort_r.append(t)\n",
    "        ssort_r.append(s)"
   ]
  },
  {
   "cell_type": "code",
   "execution_count": 20,
   "metadata": {},
   "outputs": [
    {
     "data": {
      "image/png": "[encoded data removed]",
      "text/plain": [
       "<Figure size 432x288 with 1 Axes>"
      ]
     },
     "metadata": {
      "needs_background": "light"
     },
     "output_type": "display_data"
    }
   ],
   "source": [
    "zipped_lists = zip(port_dest, port_dest_freq)\n",
    "sorted_pairs = sorted(zipped_lists)\n",
    "\n",
    "tuples = zip(*sorted_pairs)\n",
    "port_dest, port_dest_freq = [list(tuple) for tuple in  tuples]\n",
    "\n",
    "total_len = db_data[db_data.columns[9]].count()\n",
    "\n",
    "port_dest_prob = [ i/total_len for i in port_dest_freq]\n",
    "\n",
    "plt.plot(port_dest[:250], port_dest_prob[:250])\n",
    "plt.title('Port vs Freq')\n",
    "plt.xlabel('Port')\n",
    "plt.ylabel('Freq')\n",
    "plt.show()"
   ]
  },
  {
   "cell_type": "code",
   "execution_count": 23,
   "metadata": {},
   "outputs": [
    {
     "name": "stdout",
     "output_type": "stream",
     "text": [
      "100 236574\n"
     ]
    },
    {
     "data": {
      "image/png": "[encoded data removed]",
      "text/plain": [
       "<Figure size 432x288 with 1 Axes>"
      ]
     },
     "metadata": {
      "needs_background": "light"
     },
     "output_type": "display_data"
    }
   ],
   "source": [
    "col_one_list = db_data['Port_Dst'].tolist()\n",
    "prt = []\n",
    "for i in col_one_list:\n",
    "    if(i < 2000):\n",
    "        prt.append(i)\n",
    "\n",
    "num_bins = 100\n",
    "n, bins, patches = plt.hist(prt, num_bins, facecolor='red', alpha=0.5, density=True)\n",
    "print(len(n), len(prt))\n",
    "plt.show()"
   ]
  },
  {
   "cell_type": "code",
   "execution_count": null,
   "metadata": {},
   "outputs": [],
   "source": []
  }
 ],
 "metadata": {
  "kernelspec": {
   "display_name": "Python 3",
   "language": "python",
   "name": "python3"
  },
  "language_info": {
   "codemirror_mode": {
    "name": "ipython",
    "version": 3
   },
   "file_extension": ".py",
   "mimetype": "text/x-python",
   "name": "python",
   "nbconvert_exporter": "python",
   "pygments_lexer": "ipython3",
   "version": "3.7.4"
  }
 },
 "nbformat": 4,
 "nbformat_minor": 4
}
