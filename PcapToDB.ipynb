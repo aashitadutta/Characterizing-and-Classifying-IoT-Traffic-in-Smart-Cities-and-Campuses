{
 "cells": [
  {
   "cell_type": "code",
   "execution_count": 1,
   "metadata": {},
   "outputs": [],
   "source": [
    "from scapy.all import *\n",
    "import sqlite3"
   ]
  },
  {
   "cell_type": "code",
   "execution_count": 2,
   "metadata": {},
   "outputs": [],
   "source": [
    "#Download pcap data from opensource - https://iotanalytics.unsw.edu.au/iottraces\n",
    "pcap_file = \"IoT_pcap/16-10-09.pcap\"   #Enter your input file here\n",
    "# pcap_file = \"IoT_pcap/16-09-28.pcap\"\n",
    "packets = rdpcap(pcap_file)"
   ]
  },
  {
   "cell_type": "code",
   "execution_count": 6,
   "metadata": {},
   "outputs": [
    {
     "name": "stdout",
     "output_type": "stream",
     "text": [
      "[[1, 1475931600, 66, '14:cc:20:51:33:ea', '70:5a:0f:e4:9b:c0', '15.72.255.53', '192.168.1.236', 6, 5222, 27477], [2, 1475931601, 66, '14:cc:20:51:33:ea', '30:8c:fb:2f:e4:b2', '52.87.241.159', '192.168.1.106', 6, 443, 47940], [3, 1475931601, 214, 'ec:1a:59:79:f4:89', '14:cc:20:51:33:ea', '192.168.1.223', '174.129.217.97', 6, 4124, 3478], [4, 1475931601, 146, '14:cc:20:51:33:ea', 'ec:1a:59:79:f4:89', '174.129.217.97', '192.168.1.223', 6, 3478, 4124], [5, 1475931601, 66, 'ec:1a:59:79:f4:89', '14:cc:20:51:33:ea', '192.168.1.223', '174.129.217.97', 6, 4124, 3478], [6, 1475931601, 156, '30:8c:fb:2f:e4:b2', '14:cc:20:51:33:ea', '192.168.1.106', '52.87.241.159', 6, 47940, 443], [7, 1475931601, 66, '14:cc:20:51:33:ea', '30:8c:fb:2f:e4:b2', '52.87.241.159', '192.168.1.106', 6, 443, 47940], [9, 1475931602, 43, '70:ee:50:18:34:43', '14:cc:20:51:33:ea', '192.168.1.241', '52.8.186.218', 17, 45485, 4500]]\n"
     ]
    }
   ],
   "source": [
    "pkt_cnt = 1\n",
    "pcap_data = []\n",
    "\n",
    "for i in packets:\n",
    "    \n",
    "    temp_data = []\n",
    "    \n",
    "    #for demo purpose - keep count of 10 packets\n",
    "    \n",
    "#     if pkt_cnt == 10:   \n",
    "#         break\n",
    "        \n",
    "    if i.haslayer(IP):\n",
    "        if i.haslayer(TCP):\n",
    "            temp_data.append(pkt_cnt)\n",
    "            temp_data.append(int(i.time))\n",
    "            temp_data.append(len(i))\n",
    "            temp_data.append(i.src)\n",
    "            temp_data.append(i.dst)\n",
    "            temp_data.append(i['IP'].src)\n",
    "            temp_data.append(i['IP'].dst)\n",
    "            temp_data.append(6)\n",
    "            temp_data.append(i['IP'].sport)\n",
    "            temp_data.append(i['IP'].dport)\n",
    "        elif i.haslayer(UDP):\n",
    "            temp_data.append(pkt_cnt)\n",
    "            temp_data.append(int(i.time))\n",
    "            temp_data.append(len(i))\n",
    "            temp_data.append(i.src)\n",
    "            temp_data.append(i.dst)\n",
    "            temp_data.append(i['IP'].src)\n",
    "            temp_data.append(i['IP'].dst)\n",
    "            temp_data.append(17)\n",
    "            temp_data.append(i['IP'].sport)\n",
    "            temp_data.append(i['IP'].dport)\n",
    "        \n",
    "        if len(temp_data) > 0:\n",
    "            pcap_data.append(temp_data)\n",
    "            \n",
    "#     pkt_cnt+=1\n",
    "    \n",
    "print(pcap_data)"
   ]
  },
  {
   "cell_type": "code",
   "execution_count": 10,
   "metadata": {},
   "outputs": [],
   "source": [
    "dbname = \"Group24_NS_Project.db\"\n",
    "conn = sqlite3.connect(dbname)\n",
    "csor = conn.cursor()\n",
    "stmt = \"create table if not exists demo_data_10_09 (ID int, Time int, Size int, MAC_Src text, MAC_Dst text, IP_Src text, IP_Dst text, Protocol_IP int, Port_Src int, Port_Dst int)\"\n",
    "csor.execute(stmt)"
   ]
  },
  {
   "cell_type": "code",
   "execution_count": 12,
   "metadata": {},
   "outputs": [],
   "source": [
    "for i in pcap_data:\n",
    "    stmt = \"insert into demo_data_10_09 (ID, Time, Size, MAC_Src, MAC_Dst, IP_Src, IP_Dst, Protocol_IP, Port_Src, Port_Dst) values(?, ?, ?, ?, ?, ?, ?, ?, ?, ?)\"\n",
    "    csor.execute(stmt, i)\n",
    "conn.commit()\n",
    "conn.close()"
   ]
  },
  {
   "cell_type": "code",
   "execution_count": null,
   "metadata": {},
   "outputs": [],
   "source": []
  }
 ],
 "metadata": {
  "kernelspec": {
   "display_name": "Python 3",
   "language": "python",
   "name": "python3"
  },
  "language_info": {
   "codemirror_mode": {
    "name": "ipython",
    "version": 3
   },
   "file_extension": ".py",
   "mimetype": "text/x-python",
   "name": "python",
   "nbconvert_exporter": "python",
   "pygments_lexer": "ipython3",
   "version": "3.7.4"
  }
 },
 "nbformat": 4,
 "nbformat_minor": 2
}
